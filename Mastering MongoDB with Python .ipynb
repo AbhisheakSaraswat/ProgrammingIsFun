{
 "cells": [
  {
   "cell_type": "code",
   "execution_count": 1,
   "id": "9687ab51",
   "metadata": {},
   "outputs": [],
   "source": [
    "import pymongo\n",
    "import pandas as pd\n",
    "import os"
   ]
  },
  {
   "cell_type": "code",
   "execution_count": 2,
   "id": "bc1f790a",
   "metadata": {},
   "outputs": [],
   "source": [
    "connection_string = \"mongodb://localhost:27017/SalesDB\""
   ]
  },
  {
   "cell_type": "code",
   "execution_count": 3,
   "id": "9e33cda8",
   "metadata": {},
   "outputs": [],
   "source": [
    "client = pymongo.MongoClient(connection_string)\n",
    "db = client.get_database()"
   ]
  },
  {
   "cell_type": "code",
   "execution_count": 4,
   "id": "3e5a617d",
   "metadata": {},
   "outputs": [
    {
     "data": {
      "text/plain": [
       "Database(MongoClient(host=['localhost:27017'], document_class=dict, tz_aware=False, connect=True), 'SalesDB')"
      ]
     },
     "execution_count": 4,
     "metadata": {},
     "output_type": "execute_result"
    }
   ],
   "source": [
    "db"
   ]
  },
  {
   "cell_type": "code",
   "execution_count": 5,
   "id": "c12ede30",
   "metadata": {},
   "outputs": [],
   "source": [
    "# create a new collection "
   ]
  },
  {
   "cell_type": "code",
   "execution_count": 6,
   "id": "1a111e1f",
   "metadata": {},
   "outputs": [
    {
     "data": {
      "text/plain": [
       "Collection(Database(MongoClient(host=['localhost:27017'], document_class=dict, tz_aware=False, connect=True), 'SalesDB'), 'Superstore')"
      ]
     },
     "execution_count": 6,
     "metadata": {},
     "output_type": "execute_result"
    }
   ],
   "source": [
    "db.create_collection(\"Superstore\")"
   ]
  },
  {
   "cell_type": "code",
   "execution_count": 26,
   "id": "cf7f4549",
   "metadata": {},
   "outputs": [],
   "source": [
    "# set the collection\n",
    "collection = db['Superstore']"
   ]
  },
  {
   "cell_type": "code",
   "execution_count": 27,
   "id": "e02cce85",
   "metadata": {},
   "outputs": [
    {
     "data": {
      "text/plain": [
       "Collection(Database(MongoClient(host=['localhost:27017'], document_class=dict, tz_aware=False, connect=True), 'SalesDB'), 'Superstore')"
      ]
     },
     "execution_count": 27,
     "metadata": {},
     "output_type": "execute_result"
    }
   ],
   "source": [
    "collection"
   ]
  },
  {
   "cell_type": "code",
   "execution_count": 28,
   "id": "94517ad8",
   "metadata": {},
   "outputs": [],
   "source": [
    "data = [\n",
    "    {\"name\": \"Vivek\", \"age\":25,\"email\":\"vivek.singh@example.com\"},\n",
    "    {\"name\" : \"John\",\"age\" : 30, \"email\" : \"john@example.com\"},\n",
    "    {\"name\" : \"Lucas Reynolds\", \"age\" : 34, \"email\" : \"lucas@example.com\"}\n",
    "]"
   ]
  },
  {
   "cell_type": "code",
   "execution_count": 29,
   "id": "cfe62096",
   "metadata": {},
   "outputs": [],
   "source": [
    "result = collection.insert_many(data)"
   ]
  },
  {
   "cell_type": "code",
   "execution_count": 30,
   "id": "37c88576",
   "metadata": {},
   "outputs": [
    {
     "data": {
      "text/plain": [
       "[ObjectId('651472b51f427bec88a4a780'),\n",
       " ObjectId('651472b51f427bec88a4a781'),\n",
       " ObjectId('651472b51f427bec88a4a782')]"
      ]
     },
     "execution_count": 30,
     "metadata": {},
     "output_type": "execute_result"
    }
   ],
   "source": [
    "result.inserted_ids"
   ]
  },
  {
   "cell_type": "code",
   "execution_count": 13,
   "id": "9062c615",
   "metadata": {},
   "outputs": [],
   "source": [
    "# find all documents in the collection"
   ]
  },
  {
   "cell_type": "code",
   "execution_count": 14,
   "id": "e7f61f69",
   "metadata": {},
   "outputs": [
    {
     "name": "stdout",
     "output_type": "stream",
     "text": [
      "{'_id': ObjectId('651471511f427bec88a4a77a'), 'name': 'Vivek', 'age': 25, 'email': 'vivek.singh@example.com'}\n",
      "{'_id': ObjectId('651471511f427bec88a4a77b'), 'name': 'John', 'age': 30, 'email': 'john@example.com'}\n",
      "{'_id': ObjectId('651471511f427bec88a4a77c'), 'name': 'Lucas Reynolds', 'age': 34, 'email': 'lucas@example.com'}\n"
     ]
    }
   ],
   "source": [
    "all_users = collection.find()\n",
    "for user in all_users:\n",
    "    print(user)"
   ]
  },
  {
   "cell_type": "code",
   "execution_count": 15,
   "id": "9229760f",
   "metadata": {},
   "outputs": [
    {
     "data": {
      "text/plain": [
       "<pymongo.results.UpdateResult at 0x1cecc89caf0>"
      ]
     },
     "execution_count": 15,
     "metadata": {},
     "output_type": "execute_result"
    }
   ],
   "source": [
    "# update a document\n",
    "query = {\"name\" : \"John\"}\n",
    "new_data = {\"$set\" : {\"age\" : 40}}\n",
    "collection.update_one(query, new_data)"
   ]
  },
  {
   "cell_type": "code",
   "execution_count": 16,
   "id": "8303c7ea",
   "metadata": {},
   "outputs": [
    {
     "data": {
      "text/plain": [
       "[{'_id': ObjectId('651471511f427bec88a4a77a'),\n",
       "  'name': 'Vivek',\n",
       "  'age': 25,\n",
       "  'email': 'vivek.singh@example.com'},\n",
       " {'_id': ObjectId('651471511f427bec88a4a77b'),\n",
       "  'name': 'John',\n",
       "  'age': 40,\n",
       "  'email': 'john@example.com'},\n",
       " {'_id': ObjectId('651471511f427bec88a4a77c'),\n",
       "  'name': 'Lucas Reynolds',\n",
       "  'age': 34,\n",
       "  'email': 'lucas@example.com'}]"
      ]
     },
     "execution_count": 16,
     "metadata": {},
     "output_type": "execute_result"
    }
   ],
   "source": [
    "[user for user in collection.find()]"
   ]
  },
  {
   "cell_type": "code",
   "execution_count": 17,
   "id": "0a2b9921",
   "metadata": {},
   "outputs": [
    {
     "data": {
      "text/plain": [
       "<pymongo.results.DeleteResult at 0x1ceccf02a70>"
      ]
     },
     "execution_count": 17,
     "metadata": {},
     "output_type": "execute_result"
    }
   ],
   "source": [
    "# Delete a document\n",
    "query = {\"name\" : \"John\"}\n",
    "collection.delete_one(query)"
   ]
  },
  {
   "cell_type": "code",
   "execution_count": 31,
   "id": "77bc5a0a",
   "metadata": {},
   "outputs": [
    {
     "data": {
      "text/plain": [
       "[{'_id': ObjectId('651471511f427bec88a4a77a'),\n",
       "  'name': 'Vivek',\n",
       "  'age': 25,\n",
       "  'email': 'vivek.singh@example.com'},\n",
       " {'_id': ObjectId('651471511f427bec88a4a77c'),\n",
       "  'name': 'Lucas Reynolds',\n",
       "  'age': 34,\n",
       "  'email': 'lucas@example.com'},\n",
       " {'_id': ObjectId('6514727a1f427bec88a4a77d'),\n",
       "  'name': 'Vivek',\n",
       "  'age': 25,\n",
       "  'email': 'vivek.singh@example.com'},\n",
       " {'_id': ObjectId('6514727a1f427bec88a4a77e'),\n",
       "  'name': 'John',\n",
       "  'age': 30,\n",
       "  'email': 'john@example.com'},\n",
       " {'_id': ObjectId('6514727a1f427bec88a4a77f'),\n",
       "  'name': 'Lucas Reynolds',\n",
       "  'age': 34,\n",
       "  'email': 'lucas@example.com'},\n",
       " {'_id': ObjectId('651472b51f427bec88a4a780'),\n",
       "  'name': 'Vivek',\n",
       "  'age': 25,\n",
       "  'email': 'vivek.singh@example.com'},\n",
       " {'_id': ObjectId('651472b51f427bec88a4a781'),\n",
       "  'name': 'John',\n",
       "  'age': 30,\n",
       "  'email': 'john@example.com'},\n",
       " {'_id': ObjectId('651472b51f427bec88a4a782'),\n",
       "  'name': 'Lucas Reynolds',\n",
       "  'age': 34,\n",
       "  'email': 'lucas@example.com'}]"
      ]
     },
     "execution_count": 31,
     "metadata": {},
     "output_type": "execute_result"
    }
   ],
   "source": [
    "cursor = collection.find()\n",
    "data_list = list(cursor)\n",
    "data_list"
   ]
  },
  {
   "cell_type": "code",
   "execution_count": 33,
   "id": "4d1c8b0b",
   "metadata": {},
   "outputs": [],
   "source": [
    "import csv\n",
    "csv_file_name = \"data.csv\"\n",
    "with open(file = csv_file_name, mode = \"w\", newline = \"\") as csvFile:\n",
    "    fieldnames = data_list[0].keys()\n",
    "    writer = csv.DictWriter(csvFile, fieldnames = fieldnames)\n",
    "    writer.writeheader()\n",
    "    writer.writerows(data_list)"
   ]
  },
  {
   "cell_type": "code",
   "execution_count": 35,
   "id": "2a36eb09",
   "metadata": {},
   "outputs": [],
   "source": [
    "fileName = \"Superstore.csv\"\n",
    "df = pd.read_csv(fileName, encoding= \"ISO-8859-1\")"
   ]
  },
  {
   "cell_type": "code",
   "execution_count": 36,
   "id": "feccc862",
   "metadata": {},
   "outputs": [
    {
     "data": {
      "text/plain": [
       "(9994, 21)"
      ]
     },
     "execution_count": 36,
     "metadata": {},
     "output_type": "execute_result"
    }
   ],
   "source": [
    "df.shape"
   ]
  },
  {
   "cell_type": "code",
   "execution_count": 37,
   "id": "e5bdef8e",
   "metadata": {},
   "outputs": [
    {
     "data": {
      "text/html": [
       "<div>\n",
       "<style scoped>\n",
       "    .dataframe tbody tr th:only-of-type {\n",
       "        vertical-align: middle;\n",
       "    }\n",
       "\n",
       "    .dataframe tbody tr th {\n",
       "        vertical-align: top;\n",
       "    }\n",
       "\n",
       "    .dataframe thead th {\n",
       "        text-align: right;\n",
       "    }\n",
       "</style>\n",
       "<table border=\"1\" class=\"dataframe\">\n",
       "  <thead>\n",
       "    <tr style=\"text-align: right;\">\n",
       "      <th></th>\n",
       "      <th>Row ID</th>\n",
       "      <th>Order ID</th>\n",
       "      <th>Order Date</th>\n",
       "      <th>Ship Date</th>\n",
       "      <th>Ship Mode</th>\n",
       "      <th>Customer ID</th>\n",
       "      <th>Customer Name</th>\n",
       "      <th>Segment</th>\n",
       "      <th>Country/Region</th>\n",
       "      <th>City</th>\n",
       "      <th>...</th>\n",
       "      <th>Postal Code</th>\n",
       "      <th>Region</th>\n",
       "      <th>Product ID</th>\n",
       "      <th>Category</th>\n",
       "      <th>Sub-Category</th>\n",
       "      <th>Product Name</th>\n",
       "      <th>Sales</th>\n",
       "      <th>Quantity</th>\n",
       "      <th>Discount</th>\n",
       "      <th>Profit</th>\n",
       "    </tr>\n",
       "  </thead>\n",
       "  <tbody>\n",
       "    <tr>\n",
       "      <th>0</th>\n",
       "      <td>1</td>\n",
       "      <td>CA-2020-152156</td>\n",
       "      <td>11/8/2020</td>\n",
       "      <td>11/11/2020</td>\n",
       "      <td>Second Class</td>\n",
       "      <td>CG-12520</td>\n",
       "      <td>Claire Gute</td>\n",
       "      <td>Consumer</td>\n",
       "      <td>United States</td>\n",
       "      <td>Henderson</td>\n",
       "      <td>...</td>\n",
       "      <td>42420.0</td>\n",
       "      <td>South</td>\n",
       "      <td>FUR-BO-10001798</td>\n",
       "      <td>Furniture</td>\n",
       "      <td>Bookcases</td>\n",
       "      <td>Bush Somerset Collection Bookcase</td>\n",
       "      <td>261.9600</td>\n",
       "      <td>2</td>\n",
       "      <td>0.00</td>\n",
       "      <td>41.9136</td>\n",
       "    </tr>\n",
       "    <tr>\n",
       "      <th>1</th>\n",
       "      <td>2</td>\n",
       "      <td>CA-2020-152156</td>\n",
       "      <td>11/8/2020</td>\n",
       "      <td>11/11/2020</td>\n",
       "      <td>Second Class</td>\n",
       "      <td>CG-12520</td>\n",
       "      <td>Claire Gute</td>\n",
       "      <td>Consumer</td>\n",
       "      <td>United States</td>\n",
       "      <td>Henderson</td>\n",
       "      <td>...</td>\n",
       "      <td>42420.0</td>\n",
       "      <td>South</td>\n",
       "      <td>FUR-CH-10000454</td>\n",
       "      <td>Furniture</td>\n",
       "      <td>Chairs</td>\n",
       "      <td>Hon Deluxe Fabric Upholstered Stacking Chairs,...</td>\n",
       "      <td>731.9400</td>\n",
       "      <td>3</td>\n",
       "      <td>0.00</td>\n",
       "      <td>219.5820</td>\n",
       "    </tr>\n",
       "    <tr>\n",
       "      <th>2</th>\n",
       "      <td>3</td>\n",
       "      <td>CA-2020-138688</td>\n",
       "      <td>6/12/2020</td>\n",
       "      <td>6/16/2020</td>\n",
       "      <td>Second Class</td>\n",
       "      <td>DV-13045</td>\n",
       "      <td>Darrin Van Huff</td>\n",
       "      <td>Corporate</td>\n",
       "      <td>United States</td>\n",
       "      <td>Los Angeles</td>\n",
       "      <td>...</td>\n",
       "      <td>90036.0</td>\n",
       "      <td>West</td>\n",
       "      <td>OFF-LA-10000240</td>\n",
       "      <td>Office Supplies</td>\n",
       "      <td>Labels</td>\n",
       "      <td>Self-Adhesive Address Labels for Typewriters b...</td>\n",
       "      <td>14.6200</td>\n",
       "      <td>2</td>\n",
       "      <td>0.00</td>\n",
       "      <td>6.8714</td>\n",
       "    </tr>\n",
       "    <tr>\n",
       "      <th>3</th>\n",
       "      <td>4</td>\n",
       "      <td>US-2019-108966</td>\n",
       "      <td>10/11/2019</td>\n",
       "      <td>10/18/2019</td>\n",
       "      <td>Standard Class</td>\n",
       "      <td>SO-20335</td>\n",
       "      <td>Sean O'Donnell</td>\n",
       "      <td>Consumer</td>\n",
       "      <td>United States</td>\n",
       "      <td>Fort Lauderdale</td>\n",
       "      <td>...</td>\n",
       "      <td>33311.0</td>\n",
       "      <td>South</td>\n",
       "      <td>FUR-TA-10000577</td>\n",
       "      <td>Furniture</td>\n",
       "      <td>Tables</td>\n",
       "      <td>Bretford CR4500 Series Slim Rectangular Table</td>\n",
       "      <td>957.5775</td>\n",
       "      <td>5</td>\n",
       "      <td>0.45</td>\n",
       "      <td>-383.0310</td>\n",
       "    </tr>\n",
       "    <tr>\n",
       "      <th>4</th>\n",
       "      <td>5</td>\n",
       "      <td>US-2019-108966</td>\n",
       "      <td>10/11/2019</td>\n",
       "      <td>10/18/2019</td>\n",
       "      <td>Standard Class</td>\n",
       "      <td>SO-20335</td>\n",
       "      <td>Sean O'Donnell</td>\n",
       "      <td>Consumer</td>\n",
       "      <td>United States</td>\n",
       "      <td>Fort Lauderdale</td>\n",
       "      <td>...</td>\n",
       "      <td>33311.0</td>\n",
       "      <td>South</td>\n",
       "      <td>OFF-ST-10000760</td>\n",
       "      <td>Office Supplies</td>\n",
       "      <td>Storage</td>\n",
       "      <td>Eldon Fold 'N Roll Cart System</td>\n",
       "      <td>22.3680</td>\n",
       "      <td>2</td>\n",
       "      <td>0.20</td>\n",
       "      <td>2.5164</td>\n",
       "    </tr>\n",
       "  </tbody>\n",
       "</table>\n",
       "<p>5 rows × 21 columns</p>\n",
       "</div>"
      ],
      "text/plain": [
       "   Row ID        Order ID  Order Date   Ship Date       Ship Mode Customer ID  \\\n",
       "0       1  CA-2020-152156   11/8/2020  11/11/2020    Second Class    CG-12520   \n",
       "1       2  CA-2020-152156   11/8/2020  11/11/2020    Second Class    CG-12520   \n",
       "2       3  CA-2020-138688   6/12/2020   6/16/2020    Second Class    DV-13045   \n",
       "3       4  US-2019-108966  10/11/2019  10/18/2019  Standard Class    SO-20335   \n",
       "4       5  US-2019-108966  10/11/2019  10/18/2019  Standard Class    SO-20335   \n",
       "\n",
       "     Customer Name    Segment Country/Region             City  ...  \\\n",
       "0      Claire Gute   Consumer  United States        Henderson  ...   \n",
       "1      Claire Gute   Consumer  United States        Henderson  ...   \n",
       "2  Darrin Van Huff  Corporate  United States      Los Angeles  ...   \n",
       "3   Sean O'Donnell   Consumer  United States  Fort Lauderdale  ...   \n",
       "4   Sean O'Donnell   Consumer  United States  Fort Lauderdale  ...   \n",
       "\n",
       "  Postal Code  Region       Product ID         Category Sub-Category  \\\n",
       "0     42420.0   South  FUR-BO-10001798        Furniture    Bookcases   \n",
       "1     42420.0   South  FUR-CH-10000454        Furniture       Chairs   \n",
       "2     90036.0    West  OFF-LA-10000240  Office Supplies       Labels   \n",
       "3     33311.0   South  FUR-TA-10000577        Furniture       Tables   \n",
       "4     33311.0   South  OFF-ST-10000760  Office Supplies      Storage   \n",
       "\n",
       "                                        Product Name     Sales  Quantity  \\\n",
       "0                  Bush Somerset Collection Bookcase  261.9600         2   \n",
       "1  Hon Deluxe Fabric Upholstered Stacking Chairs,...  731.9400         3   \n",
       "2  Self-Adhesive Address Labels for Typewriters b...   14.6200         2   \n",
       "3      Bretford CR4500 Series Slim Rectangular Table  957.5775         5   \n",
       "4                     Eldon Fold 'N Roll Cart System   22.3680         2   \n",
       "\n",
       "   Discount    Profit  \n",
       "0      0.00   41.9136  \n",
       "1      0.00  219.5820  \n",
       "2      0.00    6.8714  \n",
       "3      0.45 -383.0310  \n",
       "4      0.20    2.5164  \n",
       "\n",
       "[5 rows x 21 columns]"
      ]
     },
     "execution_count": 37,
     "metadata": {},
     "output_type": "execute_result"
    }
   ],
   "source": [
    "df.head()"
   ]
  },
  {
   "cell_type": "code",
   "execution_count": 38,
   "id": "375666bc",
   "metadata": {},
   "outputs": [
    {
     "data": {
      "text/plain": [
       "array(['Bookcases', 'Chairs', 'Labels', 'Tables', 'Storage',\n",
       "       'Furnishings', 'Art', 'Phones', 'Binders', 'Appliances', 'Paper',\n",
       "       'Accessories', 'Envelopes', 'Fasteners', 'Supplies', 'Machines',\n",
       "       'Copiers'], dtype=object)"
      ]
     },
     "execution_count": 38,
     "metadata": {},
     "output_type": "execute_result"
    }
   ],
   "source": [
    "df[\"Sub-Category\"].unique()"
   ]
  },
  {
   "cell_type": "code",
   "execution_count": 39,
   "id": "ee4d6137",
   "metadata": {},
   "outputs": [],
   "source": [
    "for fl in df[\"Sub-Category\"].unique():\n",
    "    result = df[df[\"Sub-Category\"] == fl]\n",
    "    result.to_csv(fl + \".csv\", index = False)"
   ]
  },
  {
   "cell_type": "code",
   "execution_count": 40,
   "id": "0758562d",
   "metadata": {},
   "outputs": [
    {
     "data": {
      "text/plain": [
       "['Superstore']"
      ]
     },
     "execution_count": 40,
     "metadata": {},
     "output_type": "execute_result"
    }
   ],
   "source": [
    "db.list_collection_names()"
   ]
  },
  {
   "cell_type": "code",
   "execution_count": 41,
   "id": "0bcb428f",
   "metadata": {},
   "outputs": [],
   "source": [
    "collection1 = db.create_collection(\"AllData\")"
   ]
  },
  {
   "cell_type": "code",
   "execution_count": 42,
   "id": "6f718aba",
   "metadata": {},
   "outputs": [
    {
     "data": {
      "text/plain": [
       "Collection(Database(MongoClient(host=['localhost:27017'], document_class=dict, tz_aware=False, connect=True), 'SalesDB'), 'AllData')"
      ]
     },
     "execution_count": 42,
     "metadata": {},
     "output_type": "execute_result"
    }
   ],
   "source": [
    "collection1"
   ]
  },
  {
   "cell_type": "code",
   "execution_count": 44,
   "id": "ba0e34cf",
   "metadata": {},
   "outputs": [
    {
     "name": "stdout",
     "output_type": "stream",
     "text": [
      "Inserted IDs for Accessories.csv : [ObjectId('651474bf1f427bec88a4a783'), ObjectId('651474bf1f427bec88a4a784'), ObjectId('651474bf1f427bec88a4a785'), ObjectId('651474bf1f427bec88a4a786'), ObjectId('651474bf1f427bec88a4a787')]\n",
      "\n",
      "Inserted IDs for Appliances.csv : [ObjectId('651474bf1f427bec88a4aa8a'), ObjectId('651474bf1f427bec88a4aa8b'), ObjectId('651474bf1f427bec88a4aa8c'), ObjectId('651474bf1f427bec88a4aa8d'), ObjectId('651474bf1f427bec88a4aa8e')]\n",
      "\n",
      "Inserted IDs for Art.csv : [ObjectId('651474bf1f427bec88a4ac5c'), ObjectId('651474bf1f427bec88a4ac5d'), ObjectId('651474bf1f427bec88a4ac5e'), ObjectId('651474bf1f427bec88a4ac5f'), ObjectId('651474bf1f427bec88a4ac60')]\n",
      "\n",
      "Inserted IDs for Binders.csv : [ObjectId('651474c01f427bec88a4af78'), ObjectId('651474c01f427bec88a4af79'), ObjectId('651474c01f427bec88a4af7a'), ObjectId('651474c01f427bec88a4af7b'), ObjectId('651474c01f427bec88a4af7c')]\n",
      "\n",
      "Inserted IDs for Bookcases.csv : [ObjectId('651474c01f427bec88a4b56b'), ObjectId('651474c01f427bec88a4b56c'), ObjectId('651474c01f427bec88a4b56d'), ObjectId('651474c01f427bec88a4b56e'), ObjectId('651474c01f427bec88a4b56f')]\n",
      "\n",
      "Inserted IDs for Chairs.csv : [ObjectId('651474c01f427bec88a4b64f'), ObjectId('651474c01f427bec88a4b650'), ObjectId('651474c01f427bec88a4b651'), ObjectId('651474c01f427bec88a4b652'), ObjectId('651474c01f427bec88a4b653')]\n",
      "\n",
      "Inserted IDs for Copiers.csv : [ObjectId('651474c01f427bec88a4b8b8'), ObjectId('651474c01f427bec88a4b8b9'), ObjectId('651474c01f427bec88a4b8ba'), ObjectId('651474c01f427bec88a4b8bb'), ObjectId('651474c01f427bec88a4b8bc')]\n",
      "\n",
      "Inserted IDs for data.csv : ['651471511f427bec88a4a77a', '651471511f427bec88a4a77c', '6514727a1f427bec88a4a77d', '6514727a1f427bec88a4a77e', '6514727a1f427bec88a4a77f']\n",
      "\n",
      "Inserted IDs for Envelopes.csv : [ObjectId('651474c01f427bec88a4b8fc'), ObjectId('651474c01f427bec88a4b8fd'), ObjectId('651474c01f427bec88a4b8fe'), ObjectId('651474c01f427bec88a4b8ff'), ObjectId('651474c01f427bec88a4b900')]\n",
      "\n",
      "Inserted IDs for Fasteners.csv : [ObjectId('651474c01f427bec88a4b9fa'), ObjectId('651474c01f427bec88a4b9fb'), ObjectId('651474c01f427bec88a4b9fc'), ObjectId('651474c01f427bec88a4b9fd'), ObjectId('651474c01f427bec88a4b9fe')]\n",
      "\n",
      "Inserted IDs for Furnishings.csv : [ObjectId('651474c01f427bec88a4bad3'), ObjectId('651474c01f427bec88a4bad4'), ObjectId('651474c01f427bec88a4bad5'), ObjectId('651474c01f427bec88a4bad6'), ObjectId('651474c01f427bec88a4bad7')]\n",
      "\n",
      "Inserted IDs for Labels.csv : [ObjectId('651474c01f427bec88a4be90'), ObjectId('651474c01f427bec88a4be91'), ObjectId('651474c01f427bec88a4be92'), ObjectId('651474c01f427bec88a4be93'), ObjectId('651474c01f427bec88a4be94')]\n",
      "\n",
      "Inserted IDs for Machines.csv : [ObjectId('651474c01f427bec88a4bffc'), ObjectId('651474c01f427bec88a4bffd'), ObjectId('651474c01f427bec88a4bffe'), ObjectId('651474c01f427bec88a4bfff'), ObjectId('651474c01f427bec88a4c000')]\n",
      "\n",
      "Inserted IDs for Paper.csv : [ObjectId('651474c01f427bec88a4c06f'), ObjectId('651474c01f427bec88a4c070'), ObjectId('651474c01f427bec88a4c071'), ObjectId('651474c01f427bec88a4c072'), ObjectId('651474c01f427bec88a4c073')]\n",
      "\n",
      "Inserted IDs for Phones.csv : [ObjectId('651474c01f427bec88a4c5c9'), ObjectId('651474c01f427bec88a4c5ca'), ObjectId('651474c01f427bec88a4c5cb'), ObjectId('651474c01f427bec88a4c5cc'), ObjectId('651474c01f427bec88a4c5cd')]\n",
      "\n",
      "Inserted IDs for Storage.csv : [ObjectId('651474c01f427bec88a4c942'), ObjectId('651474c01f427bec88a4c943'), ObjectId('651474c01f427bec88a4c944'), ObjectId('651474c01f427bec88a4c945'), ObjectId('651474c01f427bec88a4c946')]\n",
      "\n",
      "Inserted IDs for Supplies.csv : [ObjectId('651474c01f427bec88a4cc90'), ObjectId('651474c01f427bec88a4cc91'), ObjectId('651474c01f427bec88a4cc92'), ObjectId('651474c01f427bec88a4cc93'), ObjectId('651474c01f427bec88a4cc94')]\n",
      "\n",
      "Inserted IDs for Tables.csv : [ObjectId('651474c01f427bec88a4cd4e'), ObjectId('651474c01f427bec88a4cd4f'), ObjectId('651474c01f427bec88a4cd50'), ObjectId('651474c01f427bec88a4cd51'), ObjectId('651474c01f427bec88a4cd52')]\n",
      "\n"
     ]
    }
   ],
   "source": [
    "for fl in os.listdir():\n",
    "    if \".csv\" in fl:\n",
    "        sales = pd.read_csv(fl)\n",
    "        # convert Each dataframe to a list of dicts\n",
    "        data_list = sales.to_dict(orient=\"records\")\n",
    "        result = collection1.insert_many(data_list)\n",
    "        # print the inseted document ids\n",
    "        print(f\"Inserted IDs for {fl} : {result.inserted_ids[:5]}\")\n",
    "        print()\n",
    "        "
   ]
  },
  {
   "cell_type": "code",
   "execution_count": 45,
   "id": "6a16fc87",
   "metadata": {},
   "outputs": [
    {
     "name": "stdout",
     "output_type": "stream",
     "text": [
      "{'_id': ObjectId('651474bf1f427bec88a4a783'), 'Row ID': 27, 'Order ID': 'CA-2020-121755', 'Order Date': '1/16/2020', 'Ship Date': '1/20/2020', 'Ship Mode': 'Second Class', 'Customer ID': 'EH-13945', 'Customer Name': 'Eric Hoffmann', 'Segment': 'Consumer', 'Country/Region': 'United States', 'City': 'Los Angeles', 'State': 'California', 'Postal Code': 90049.0, 'Region': 'West', 'Product ID': 'TEC-AC-10003027', 'Category': 'Technology', 'Sub-Category': 'Accessories', 'Product Name': 'Imation\\xa08GB Mini TravelDrive USB 2.0\\xa0Flash Drive', 'Sales': 90.57, 'Quantity': 3, 'Discount': 0.0, 'Profit': 11.7741}\n",
      "{'_id': ObjectId('651474bf1f427bec88a4a784'), 'Row ID': 45, 'Order ID': 'CA-2020-118255', 'Order Date': '3/11/2020', 'Ship Date': '3/13/2020', 'Ship Mode': 'First Class', 'Customer ID': 'ON-18715', 'Customer Name': 'Odella Nelson', 'Segment': 'Corporate', 'Country/Region': 'United States', 'City': 'Eagan', 'State': 'Minnesota', 'Postal Code': 55122.0, 'Region': 'Central', 'Product ID': 'TEC-AC-10000171', 'Category': 'Technology', 'Sub-Category': 'Accessories', 'Product Name': 'Verbatim 25 GB 6x Blu-ray Single Layer Recordable Disc, 25/Pack', 'Sales': 45.98, 'Quantity': 2, 'Discount': 0.0, 'Profit': 19.7714}\n",
      "{'_id': ObjectId('651474bf1f427bec88a4a785'), 'Row ID': 48, 'Order ID': 'CA-2020-169194', 'Order Date': '6/20/2020', 'Ship Date': '6/25/2020', 'Ship Mode': 'Standard Class', 'Customer ID': 'LH-16900', 'Customer Name': 'Lena Hernandez', 'Segment': 'Consumer', 'Country/Region': 'United States', 'City': 'Dover', 'State': 'Delaware', 'Postal Code': 19901.0, 'Region': 'East', 'Product ID': 'TEC-AC-10002167', 'Category': 'Technology', 'Sub-Category': 'Accessories', 'Product Name': 'Imation\\xa08gb Micro Traveldrive Usb 2.0\\xa0Flash Drive', 'Sales': 45.0, 'Quantity': 3, 'Discount': 0.0, 'Profit': 4.95}\n",
      "{'_id': ObjectId('651474bf1f427bec88a4a786'), 'Row ID': 60, 'Order ID': 'CA-2020-111682', 'Order Date': '6/17/2020', 'Ship Date': '6/18/2020', 'Ship Mode': 'First Class', 'Customer ID': 'TB-21055', 'Customer Name': 'Ted Butterfield', 'Segment': 'Consumer', 'Country/Region': 'United States', 'City': 'Troy', 'State': 'New York', 'Postal Code': 12180.0, 'Region': 'East', 'Product ID': 'TEC-AC-10002167', 'Category': 'Technology', 'Sub-Category': 'Accessories', 'Product Name': 'Imation\\xa08gb Micro Traveldrive Usb 2.0\\xa0Flash Drive', 'Sales': 30.0, 'Quantity': 2, 'Discount': 0.0, 'Profit': 3.3}\n",
      "{'_id': ObjectId('651474bf1f427bec88a4a787'), 'Row ID': 63, 'Order ID': 'CA-2019-135545', 'Order Date': '11/24/2019', 'Ship Date': '11/30/2019', 'Ship Mode': 'Standard Class', 'Customer ID': 'KM-16720', 'Customer Name': 'Kunst Miller', 'Segment': 'Consumer', 'Country/Region': 'United States', 'City': 'Los Angeles', 'State': 'California', 'Postal Code': 90004.0, 'Region': 'West', 'Product ID': 'TEC-AC-10004633', 'Category': 'Technology', 'Sub-Category': 'Accessories', 'Product Name': 'Verbatim 25 GB 6x Blu-ray Single Layer Recordable Disc, 3/Pack', 'Sales': 13.98, 'Quantity': 2, 'Discount': 0.0, 'Profit': 6.1512}\n"
     ]
    }
   ],
   "source": [
    "i = 0\n",
    "for rec in collection1.find():\n",
    "    i = i  + 1\n",
    "    if i <= 5:\n",
    "        print(rec)"
   ]
  },
  {
   "cell_type": "code",
   "execution_count": 46,
   "id": "e8bc3d7b",
   "metadata": {},
   "outputs": [],
   "source": [
    "import pprint"
   ]
  },
  {
   "cell_type": "code",
   "execution_count": 47,
   "id": "d271c24e",
   "metadata": {},
   "outputs": [
    {
     "name": "stdout",
     "output_type": "stream",
     "text": [
      "{'Category': 'Technology',\n",
      " 'City': 'Los Angeles',\n",
      " 'Country/Region': 'United States',\n",
      " 'Customer ID': 'EH-13945',\n",
      " 'Customer Name': 'Eric Hoffmann',\n",
      " 'Discount': 0.0,\n",
      " 'Order Date': '1/16/2020',\n",
      " 'Order ID': 'CA-2020-121755',\n",
      " 'Postal Code': 90049.0,\n",
      " 'Product ID': 'TEC-AC-10003027',\n",
      " 'Product Name': 'Imation\\xa08GB Mini TravelDrive USB 2.0\\xa0Flash Drive',\n",
      " 'Profit': 11.7741,\n",
      " 'Quantity': 3,\n",
      " 'Region': 'West',\n",
      " 'Row ID': 27,\n",
      " 'Sales': 90.57,\n",
      " 'Segment': 'Consumer',\n",
      " 'Ship Date': '1/20/2020',\n",
      " 'Ship Mode': 'Second Class',\n",
      " 'State': 'California',\n",
      " 'Sub-Category': 'Accessories',\n",
      " '_id': ObjectId('651474bf1f427bec88a4a783')}\n",
      "{'Category': 'Technology',\n",
      " 'City': 'Eagan',\n",
      " 'Country/Region': 'United States',\n",
      " 'Customer ID': 'ON-18715',\n",
      " 'Customer Name': 'Odella Nelson',\n",
      " 'Discount': 0.0,\n",
      " 'Order Date': '3/11/2020',\n",
      " 'Order ID': 'CA-2020-118255',\n",
      " 'Postal Code': 55122.0,\n",
      " 'Product ID': 'TEC-AC-10000171',\n",
      " 'Product Name': 'Verbatim 25 GB 6x Blu-ray Single Layer Recordable Disc, '\n",
      "                 '25/Pack',\n",
      " 'Profit': 19.7714,\n",
      " 'Quantity': 2,\n",
      " 'Region': 'Central',\n",
      " 'Row ID': 45,\n",
      " 'Sales': 45.98,\n",
      " 'Segment': 'Corporate',\n",
      " 'Ship Date': '3/13/2020',\n",
      " 'Ship Mode': 'First Class',\n",
      " 'State': 'Minnesota',\n",
      " 'Sub-Category': 'Accessories',\n",
      " '_id': ObjectId('651474bf1f427bec88a4a784')}\n",
      "{'Category': 'Technology',\n",
      " 'City': 'Dover',\n",
      " 'Country/Region': 'United States',\n",
      " 'Customer ID': 'LH-16900',\n",
      " 'Customer Name': 'Lena Hernandez',\n",
      " 'Discount': 0.0,\n",
      " 'Order Date': '6/20/2020',\n",
      " 'Order ID': 'CA-2020-169194',\n",
      " 'Postal Code': 19901.0,\n",
      " 'Product ID': 'TEC-AC-10002167',\n",
      " 'Product Name': 'Imation\\xa08gb Micro Traveldrive Usb 2.0\\xa0Flash Drive',\n",
      " 'Profit': 4.95,\n",
      " 'Quantity': 3,\n",
      " 'Region': 'East',\n",
      " 'Row ID': 48,\n",
      " 'Sales': 45.0,\n",
      " 'Segment': 'Consumer',\n",
      " 'Ship Date': '6/25/2020',\n",
      " 'Ship Mode': 'Standard Class',\n",
      " 'State': 'Delaware',\n",
      " 'Sub-Category': 'Accessories',\n",
      " '_id': ObjectId('651474bf1f427bec88a4a785')}\n",
      "{'Category': 'Technology',\n",
      " 'City': 'Troy',\n",
      " 'Country/Region': 'United States',\n",
      " 'Customer ID': 'TB-21055',\n",
      " 'Customer Name': 'Ted Butterfield',\n",
      " 'Discount': 0.0,\n",
      " 'Order Date': '6/17/2020',\n",
      " 'Order ID': 'CA-2020-111682',\n",
      " 'Postal Code': 12180.0,\n",
      " 'Product ID': 'TEC-AC-10002167',\n",
      " 'Product Name': 'Imation\\xa08gb Micro Traveldrive Usb 2.0\\xa0Flash Drive',\n",
      " 'Profit': 3.3,\n",
      " 'Quantity': 2,\n",
      " 'Region': 'East',\n",
      " 'Row ID': 60,\n",
      " 'Sales': 30.0,\n",
      " 'Segment': 'Consumer',\n",
      " 'Ship Date': '6/18/2020',\n",
      " 'Ship Mode': 'First Class',\n",
      " 'State': 'New York',\n",
      " 'Sub-Category': 'Accessories',\n",
      " '_id': ObjectId('651474bf1f427bec88a4a786')}\n",
      "{'Category': 'Technology',\n",
      " 'City': 'Los Angeles',\n",
      " 'Country/Region': 'United States',\n",
      " 'Customer ID': 'KM-16720',\n",
      " 'Customer Name': 'Kunst Miller',\n",
      " 'Discount': 0.0,\n",
      " 'Order Date': '11/24/2019',\n",
      " 'Order ID': 'CA-2019-135545',\n",
      " 'Postal Code': 90004.0,\n",
      " 'Product ID': 'TEC-AC-10004633',\n",
      " 'Product Name': 'Verbatim 25 GB 6x Blu-ray Single Layer Recordable Disc, '\n",
      "                 '3/Pack',\n",
      " 'Profit': 6.1512,\n",
      " 'Quantity': 2,\n",
      " 'Region': 'West',\n",
      " 'Row ID': 63,\n",
      " 'Sales': 13.98,\n",
      " 'Segment': 'Consumer',\n",
      " 'Ship Date': '11/30/2019',\n",
      " 'Ship Mode': 'Standard Class',\n",
      " 'State': 'California',\n",
      " 'Sub-Category': 'Accessories',\n",
      " '_id': ObjectId('651474bf1f427bec88a4a787')}\n"
     ]
    }
   ],
   "source": [
    "i = 0\n",
    "for rec in collection1.find():\n",
    "    i = i  + 1\n",
    "    if i <= 5:\n",
    "        pprint.pprint(rec)"
   ]
  },
  {
   "cell_type": "code",
   "execution_count": 48,
   "id": "ef2c586a",
   "metadata": {},
   "outputs": [],
   "source": [
    "# update region from East : myEast\n"
   ]
  },
  {
   "cell_type": "code",
   "execution_count": 49,
   "id": "f5b98ffd",
   "metadata": {},
   "outputs": [
    {
     "data": {
      "text/plain": [
       "<pymongo.results.UpdateResult at 0x1cecd9a8280>"
      ]
     },
     "execution_count": 49,
     "metadata": {},
     "output_type": "execute_result"
    }
   ],
   "source": [
    "collection1.update_many({\"Region\":\"East\"}, {\"$set\" : {\"Region\" : \"myEast\"}})"
   ]
  },
  {
   "cell_type": "code",
   "execution_count": 50,
   "id": "4d218eb5",
   "metadata": {},
   "outputs": [],
   "source": [
    "# fetch the updated data from mongodb"
   ]
  },
  {
   "cell_type": "code",
   "execution_count": 51,
   "id": "12f63fa7",
   "metadata": {},
   "outputs": [],
   "source": [
    "cursor = collection1.find()\n",
    "# convert the cursor into pandas Df\n",
    "df = pd.DataFrame(list(cursor))"
   ]
  },
  {
   "cell_type": "code",
   "execution_count": 52,
   "id": "5c7c46b0",
   "metadata": {},
   "outputs": [
    {
     "data": {
      "text/html": [
       "<div>\n",
       "<style scoped>\n",
       "    .dataframe tbody tr th:only-of-type {\n",
       "        vertical-align: middle;\n",
       "    }\n",
       "\n",
       "    .dataframe tbody tr th {\n",
       "        vertical-align: top;\n",
       "    }\n",
       "\n",
       "    .dataframe thead th {\n",
       "        text-align: right;\n",
       "    }\n",
       "</style>\n",
       "<table border=\"1\" class=\"dataframe\">\n",
       "  <thead>\n",
       "    <tr style=\"text-align: right;\">\n",
       "      <th></th>\n",
       "      <th>_id</th>\n",
       "      <th>Row ID</th>\n",
       "      <th>Order ID</th>\n",
       "      <th>Order Date</th>\n",
       "      <th>Ship Date</th>\n",
       "      <th>Ship Mode</th>\n",
       "      <th>Customer ID</th>\n",
       "      <th>Customer Name</th>\n",
       "      <th>Segment</th>\n",
       "      <th>Country/Region</th>\n",
       "      <th>...</th>\n",
       "      <th>Category</th>\n",
       "      <th>Sub-Category</th>\n",
       "      <th>Product Name</th>\n",
       "      <th>Sales</th>\n",
       "      <th>Quantity</th>\n",
       "      <th>Discount</th>\n",
       "      <th>Profit</th>\n",
       "      <th>name</th>\n",
       "      <th>age</th>\n",
       "      <th>email</th>\n",
       "    </tr>\n",
       "  </thead>\n",
       "  <tbody>\n",
       "    <tr>\n",
       "      <th>0</th>\n",
       "      <td>651474bf1f427bec88a4a783</td>\n",
       "      <td>27.0</td>\n",
       "      <td>CA-2020-121755</td>\n",
       "      <td>1/16/2020</td>\n",
       "      <td>1/20/2020</td>\n",
       "      <td>Second Class</td>\n",
       "      <td>EH-13945</td>\n",
       "      <td>Eric Hoffmann</td>\n",
       "      <td>Consumer</td>\n",
       "      <td>United States</td>\n",
       "      <td>...</td>\n",
       "      <td>Technology</td>\n",
       "      <td>Accessories</td>\n",
       "      <td>Imation 8GB Mini TravelDrive USB 2.0 Flash Drive</td>\n",
       "      <td>90.57</td>\n",
       "      <td>3.0</td>\n",
       "      <td>0.0</td>\n",
       "      <td>11.7741</td>\n",
       "      <td>NaN</td>\n",
       "      <td>NaN</td>\n",
       "      <td>NaN</td>\n",
       "    </tr>\n",
       "    <tr>\n",
       "      <th>1</th>\n",
       "      <td>651474bf1f427bec88a4a784</td>\n",
       "      <td>45.0</td>\n",
       "      <td>CA-2020-118255</td>\n",
       "      <td>3/11/2020</td>\n",
       "      <td>3/13/2020</td>\n",
       "      <td>First Class</td>\n",
       "      <td>ON-18715</td>\n",
       "      <td>Odella Nelson</td>\n",
       "      <td>Corporate</td>\n",
       "      <td>United States</td>\n",
       "      <td>...</td>\n",
       "      <td>Technology</td>\n",
       "      <td>Accessories</td>\n",
       "      <td>Verbatim 25 GB 6x Blu-ray Single Layer Recorda...</td>\n",
       "      <td>45.98</td>\n",
       "      <td>2.0</td>\n",
       "      <td>0.0</td>\n",
       "      <td>19.7714</td>\n",
       "      <td>NaN</td>\n",
       "      <td>NaN</td>\n",
       "      <td>NaN</td>\n",
       "    </tr>\n",
       "  </tbody>\n",
       "</table>\n",
       "<p>2 rows × 25 columns</p>\n",
       "</div>"
      ],
      "text/plain": [
       "                        _id  Row ID        Order ID Order Date  Ship Date  \\\n",
       "0  651474bf1f427bec88a4a783    27.0  CA-2020-121755  1/16/2020  1/20/2020   \n",
       "1  651474bf1f427bec88a4a784    45.0  CA-2020-118255  3/11/2020  3/13/2020   \n",
       "\n",
       "      Ship Mode Customer ID  Customer Name    Segment Country/Region  ...  \\\n",
       "0  Second Class    EH-13945  Eric Hoffmann   Consumer  United States  ...   \n",
       "1   First Class    ON-18715  Odella Nelson  Corporate  United States  ...   \n",
       "\n",
       "     Category Sub-Category                                       Product Name  \\\n",
       "0  Technology  Accessories   Imation 8GB Mini TravelDrive USB 2.0 Flash Drive   \n",
       "1  Technology  Accessories  Verbatim 25 GB 6x Blu-ray Single Layer Recorda...   \n",
       "\n",
       "   Sales Quantity Discount   Profit name  age  email  \n",
       "0  90.57      3.0      0.0  11.7741  NaN  NaN    NaN  \n",
       "1  45.98      2.0      0.0  19.7714  NaN  NaN    NaN  \n",
       "\n",
       "[2 rows x 25 columns]"
      ]
     },
     "execution_count": 52,
     "metadata": {},
     "output_type": "execute_result"
    }
   ],
   "source": [
    "df.head(2)"
   ]
  },
  {
   "cell_type": "code",
   "execution_count": 53,
   "id": "e60ebaa7",
   "metadata": {},
   "outputs": [],
   "source": [
    "df.to_excel(\"Sales_MongoDB.xlsx\", index=False)"
   ]
  },
  {
   "cell_type": "code",
   "execution_count": null,
   "id": "1c0e1f30",
   "metadata": {},
   "outputs": [],
   "source": []
  }
 ],
 "metadata": {
  "kernelspec": {
   "display_name": "Python 3 (ipykernel)",
   "language": "python",
   "name": "python3"
  },
  "language_info": {
   "codemirror_mode": {
    "name": "ipython",
    "version": 3
   },
   "file_extension": ".py",
   "mimetype": "text/x-python",
   "name": "python",
   "nbconvert_exporter": "python",
   "pygments_lexer": "ipython3",
   "version": "3.11.2"
  }
 },
 "nbformat": 4,
 "nbformat_minor": 5
}
